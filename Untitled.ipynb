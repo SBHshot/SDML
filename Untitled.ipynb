{
 "cells": [
  {
   "cell_type": "code",
   "execution_count": 2,
   "id": "f6f98936",
   "metadata": {},
   "outputs": [
    {
     "name": "stdout",
     "output_type": "stream",
     "text": [
      "C:\\Users\\jun\\Downloads\\accountGen2022.tar\\accountGen2022\\accountGen2022\n"
     ]
    }
   ],
   "source": [
    "import pathlib\n",
    "print(pathlib.Path().absolute())"
   ]
  },
  {
   "cell_type": "code",
   "execution_count": 20,
   "id": "896df529",
   "metadata": {},
   "outputs": [
    {
     "name": "stdout",
     "output_type": "stream",
     "text": [
      "Requirement already satisfied: pandas in c:\\users\\jun\\anaconda3\\lib\\site-packages (1.5.3)\n",
      "Requirement already satisfied: pytz>=2020.1 in c:\\users\\jun\\anaconda3\\lib\\site-packages (from pandas) (2022.7)\n",
      "Requirement already satisfied: numpy>=1.21.0 in c:\\users\\jun\\anaconda3\\lib\\site-packages (from pandas) (1.23.5)\n",
      "Requirement already satisfied: python-dateutil>=2.8.1 in c:\\users\\jun\\anaconda3\\lib\\site-packages (from pandas) (2.8.2)\n",
      "Requirement already satisfied: six>=1.5 in c:\\users\\jun\\anaconda3\\lib\\site-packages (from python-dateutil>=2.8.1->pandas) (1.16.0)\n",
      "Note: you may need to restart the kernel to use updated packages.\n"
     ]
    }
   ],
   "source": [
    "pip install pandas"
   ]
  },
  {
   "cell_type": "code",
   "execution_count": 22,
   "id": "f37097eb",
   "metadata": {},
   "outputs": [],
   "source": [
    "import csv\n",
    "import random\n",
    "import string\n",
    "import pandas as pd"
   ]
  },
  {
   "cell_type": "code",
   "execution_count": 4,
   "id": "e88c613f",
   "metadata": {},
   "outputs": [],
   "source": [
    "prefix='scmodeling'"
   ]
  },
  {
   "cell_type": "code",
   "execution_count": 36,
   "id": "78079ce2",
   "metadata": {},
   "outputs": [],
   "source": [
    "i = 0\n",
    "csvfile=open('scmodeling_students_2023.csv', 'r', encoding='utf-8-sig') \n",
    "myreader = csv.reader(csvfile)\n",
    "account = []\n",
    "output = []"
   ]
  },
  {
   "cell_type": "code",
   "execution_count": 37,
   "id": "461fb22e",
   "metadata": {},
   "outputs": [],
   "source": [
    "for row in myreader:\n",
    "    account = []\n",
    "    i=i+1\n",
    "    name = row[0]\n",
    "    email = row[3]\n",
    "    #sid = row[2]\n",
    "    passwd = ''.join(random.choice(string.ascii_lowercase + string.digits) for _ in range(8))\n",
    "    #print( \"%s,%s%d,%s,%s\" % (name, prefix, i, email, passwd))\n",
    "    account.extend([name,prefix+str(i),email,passwd])\n",
    "    output.append(account)"
   ]
  },
  {
   "cell_type": "code",
   "execution_count": 38,
   "id": "27838bb4",
   "metadata": {},
   "outputs": [
    {
     "data": {
      "text/plain": [
       "[['賴俊竹', 'scmodeling1', 'l76114445@gs.ncku.edu.tw', 'rafe4cay'],\n",
       " ['劉育嘉', 'scmodeling2', 'e24099017@gs.ncku.edu.tw', 'vfi8ov9n'],\n",
       " ['蔡昀典', 'scmodeling3', 'c44076134@ncku.edu.tw', '0nrdlibv'],\n",
       " ['吳彥霆', 'scmodeling4', 'e24086632@gs.ncku.edu.tw', '1fnt34s2'],\n",
       " ['許峻維', 'scmodeling5', 'e24086585@ncku.edu.tw', 'ipnil027'],\n",
       " ['趙昱翔', 'scmodeling6', 'jimmy900215@gmail.com', '3gw8se1j'],\n",
       " ['謝醉遊', 'scmodeling7', 'f14081127@ncku.edu.tw', 'lvwfwf34'],\n",
       " ['蕭尹筑', 'scmodeling8', 'm26111024@gs.ncku.edu.tw', 'vj9gjkik'],\n",
       " ['謝維軒', 'scmodeling9', 'm26111032@gs.ncku.edu.tw', '1aignmmh'],\n",
       " ['黃大祐', 'scmodeling10', 'm26111040@gs.ncku.edu.tw', 'etgftnzj'],\n",
       " ['陳彥傑', 'scmodeling11', 'm26111066@gs.ncku.edu.tw', 'hxceh1ht'],\n",
       " ['黃于倫', 'scmodeling12', 'm26111074@gs.ncku.edu.tw', '1qeue9v3'],\n",
       " ['楊佳翰', 'scmodeling13', 'm26114022@gs.ncku.edu.tw', 'fmmfg7ng'],\n",
       " ['賴漢軒', 'scmodeling14', 'm26114056@gs.ncku.edu.tw', '81j18udt'],\n",
       " ['周靖棨', 'scmodeling15', 'm26114072@gs.ncku.edu.tw', 'hsnymrvd'],\n",
       " ['梁凱瑜', 'scmodeling16', 'kaiyu0916@gmail.com', 'zhwotv2s'],\n",
       " ['許家誠', 'scmodeling17', 'm26114098@gs.ncku.edu.tw', 'wbmkw2cl'],\n",
       " ['洪宜鳳', 'scmodeling18', 'm26114103@gs.ncku.edu.tw', 'we358uq6'],\n",
       " ['陳韋安', 'scmodeling19', 'm36111115@gs.ncku.edu.tw', 'tkvd0wzr'],\n",
       " ['黃亭茵', 'scmodeling20', 'm46111086@gs.ncku.edu.tw', '36clng30'],\n",
       " ['陳冠瑋', 'scmodeling21', 'm56111088@gs.ncku.edu.tw', '8m4telif'],\n",
       " ['葉冠麟', 'scmodeling22', 'n26111033@gs.ncku.edu.tw', 'laxvdt87'],\n",
       " ['許廷宇', 'scmodeling23', 'n26111041@gs.ncku.edu.tw', 't10vaqkc'],\n",
       " ['彭彥諮', 'scmodeling24', 'n26112241@gs.ncku.edu.tw', '9ozopaup'],\n",
       " ['黃彤浩', 'scmodeling25', 'n26112267@gs.ncku.edu.tw', 'h4pcxa6o'],\n",
       " ['林家慶', 'scmodeling26', 'n26112275@gs.ncku.edu.tw', 'k16vg5kr'],\n",
       " ['阮善福', 'scmodeling27', 'n28117019@gs.ncku.edu.tw', '069q3qut'],\n",
       " ['林忠儀', 'scmodeling28', 'q16111025@gs.ncku.edu.tw', '79zcreth'],\n",
       " ['黃培秩', 'scmodeling29', 'q16111033@gs.ncku.edu.tw', 'gweilzcy'],\n",
       " ['何博文', 'scmodeling30', 'q16111059@gs.ncku.edu.tw', 'dhbyfs0k'],\n",
       " ['杜煜民', 'scmodeling31', 'q16111067@gs.ncku.edu.tw', 'diczp451'],\n",
       " ['歐德九', 'scmodeling32', 'q16111114@gs.ncku.edu.tw', 'm08ab0x7'],\n",
       " ['羅晢', 'scmodeling33', 'q16111156@gs.ncku.edu.tw', 'y8atw49g'],\n",
       " ['黃士齊', 'scmodeling34', 'q16111164@gs.ncku.edu.tw', '91c6u5sj'],\n",
       " ['王宗弘', 'scmodeling35', 'q16111172@gs.ncku.edu.tw', 'n33az7dw'],\n",
       " ['曹祐齊', 'scmodeling36', 'q16111180@gs.ncku.edu.tw', 'j1abdja4'],\n",
       " ['郭奕志', 'scmodeling37', 'q16111211@gs.ncku.edu.tw', 'oaff32n9'],\n",
       " ['張華杰', 'scmodeling38', 'q16111245@gs.ncku.edu.tw', '5lxo9dia'],\n",
       " ['林孟宸', 'scmodeling39', 'q16111279@gs.ncku.edu.tw', 'vo2u983v'],\n",
       " ['鄭蕎程', 'scmodeling40', 'q16111287@gs.ncku.edu.tw', 'ulpq3lr9'],\n",
       " ['吳泓勳', 'scmodeling41', 'q16111295@gs.ncku.edu.tw', '2c93rov9'],\n",
       " ['李晨綱', 'scmodeling42', 'q16111300@gs.ncku.edu.tw', 'ax425nkg'],\n",
       " ['陳冠霖', 'scmodeling43', 'q16111326@gs.ncku.edu.tw', 'bujtzukw'],\n",
       " ['張力仁', 'scmodeling44', 'q16111334@gs.ncku.edu.tw', 'xor5sv8s'],\n",
       " ['廖昌鈺', 'scmodeling45', 'q16111368@gs.ncku.edu.tw', '2g72hqg3'],\n",
       " ['黃家晟', 'scmodeling46', 'q16111376@gs.ncku.edu.tw', 'jnl7p35u'],\n",
       " ['吳敏弘', 'scmodeling47', 'q16111392@gs.ncku.edu.tw', '0uyrstr7'],\n",
       " ['林家音', 'scmodeling48', 'q16111407@gs.ncku.edu.tw', 'v8oj72cy'],\n",
       " ['簡成翰', 'scmodeling49', 'q16114065@gs.ncku.edu.tw', '2ufbhzeu'],\n",
       " ['馬千惠', 'scmodeling50', 'q16114099@gs.ncku.edu.tw', 'gg2y90yq'],\n",
       " ['鄭千晟', 'scmodeling51', 'q16114162@gs.ncku.edu.tw', '3y2uroe7'],\n",
       " ['王立衡', 'scmodeling52', 'q16114170@gs.ncku.edu.tw', 'zqepzrni'],\n",
       " ['鍾尚侖', 'scmodeling53', 'q16114201@gs.ncku.edu.tw', '74thdei9'],\n",
       " ['游念庭', 'scmodeling54', 'q16114251@gs.ncku.edu.tw', '7punu3li'],\n",
       " ['王俐文', 'scmodeling55', 'q16114269@gs.ncku.edu.tw', '0t7aipxx'],\n",
       " ['王冠智', 'scmodeling56', 'q16114285@gs.ncku.edu.tw', 'ql07gvhu'],\n",
       " ['林昱全', 'scmodeling57', 'q16114308@gs.ncku.edu.tw', 'hxlxt3nh'],\n",
       " ['吳岳勳', 'scmodeling58', 'q16114340@gs.ncku.edu.tw', 'zurr0x6m'],\n",
       " ['陳彥勳', 'scmodeling59', 'q16114366@gs.ncku.edu.tw', 'ftzmd768'],\n",
       " ['王柏智', 'scmodeling60', 'q16114374@gs.ncku.edu.tw', '1tngpzht'],\n",
       " ['林佩玉', 'scmodeling61', 'q16124052@gs.ncku.edu.tw', 'vmyqyw5h'],\n",
       " ['章富源', 'scmodeling62', 'q16094176@gs.ncku.edu.tw', 'adsiw6lz'],\n",
       " ['卜俊', 'scmodeling63', 'q76111019@gs.ncku.edu.tw', 'bfa81m97'],\n",
       " ['侯幃軒', 'scmodeling64', 'q76111035@gs.ncku.edu.tw', '8q8s9rvm'],\n",
       " ['王亮竣', 'scmodeling65', 'q76111085@gs.ncku.edu.tw', '9arqz597'],\n",
       " ['張幃傑', 'scmodeling66', 'q76114033@gs.ncku.edu.tw', '1h9dj37y'],\n",
       " ['王瀚緯', 'scmodeling67', 'q76114067@gs.ncku.edu.tw', 'tk490ais'],\n",
       " ['張育衡', 'scmodeling68', 'r36115016@gs.ncku.edu.tw', 'ttpjej3i'],\n",
       " ['陳宏恩', 'scmodeling69', 'vw6112020@gs.ncku.edu.tw', '8c1ydbmu'],\n",
       " ['詹昊勳', 'scmodeling70', 'vw6112038@gs.ncku.edu.tw', 'sw2icwhl'],\n",
       " ['宋志斌', 'scmodeling71', 'c44086082@ncku.edu.tw', 'pja546a7'],\n",
       " ['鍾遠哲', 'scmodeling72', 'm46111036@gs.ncku.edu.tw', 'fpqa7qlv'],\n",
       " ['呂昊諭', 'scmodeling73', 'nn6114077@gs.ncku.edu.tw', 'r2p3w5la'],\n",
       " ['黃健彰', 'scmodeling74', 'jason0956886511@gmail.com', 'c0sdhk42'],\n",
       " ['許智皓', 'scmodeling75', 'n26110150@gs.ncku.edu.tw', '75nzr1kj']]"
      ]
     },
     "execution_count": 38,
     "metadata": {},
     "output_type": "execute_result"
    }
   ],
   "source": [
    "output"
   ]
  },
  {
   "cell_type": "code",
   "execution_count": 39,
   "id": "6d6ecaee",
   "metadata": {},
   "outputs": [],
   "source": [
    "df = pd.DataFrame(output,columns=['NAME','ACCOUNT','EMAIL','PASSWORD'])"
   ]
  },
  {
   "cell_type": "code",
   "execution_count": 40,
   "id": "9951ff05",
   "metadata": {},
   "outputs": [
    {
     "data": {
      "text/html": [
       "<div>\n",
       "<style scoped>\n",
       "    .dataframe tbody tr th:only-of-type {\n",
       "        vertical-align: middle;\n",
       "    }\n",
       "\n",
       "    .dataframe tbody tr th {\n",
       "        vertical-align: top;\n",
       "    }\n",
       "\n",
       "    .dataframe thead th {\n",
       "        text-align: right;\n",
       "    }\n",
       "</style>\n",
       "<table border=\"1\" class=\"dataframe\">\n",
       "  <thead>\n",
       "    <tr style=\"text-align: right;\">\n",
       "      <th></th>\n",
       "      <th>NAME</th>\n",
       "      <th>ACCOUNT</th>\n",
       "      <th>EMAIL</th>\n",
       "      <th>PASSWORD</th>\n",
       "    </tr>\n",
       "  </thead>\n",
       "  <tbody>\n",
       "    <tr>\n",
       "      <th>0</th>\n",
       "      <td>賴俊竹</td>\n",
       "      <td>scmodeling1</td>\n",
       "      <td>l76114445@gs.ncku.edu.tw</td>\n",
       "      <td>rafe4cay</td>\n",
       "    </tr>\n",
       "    <tr>\n",
       "      <th>1</th>\n",
       "      <td>劉育嘉</td>\n",
       "      <td>scmodeling2</td>\n",
       "      <td>e24099017@gs.ncku.edu.tw</td>\n",
       "      <td>vfi8ov9n</td>\n",
       "    </tr>\n",
       "    <tr>\n",
       "      <th>2</th>\n",
       "      <td>蔡昀典</td>\n",
       "      <td>scmodeling3</td>\n",
       "      <td>c44076134@ncku.edu.tw</td>\n",
       "      <td>0nrdlibv</td>\n",
       "    </tr>\n",
       "    <tr>\n",
       "      <th>3</th>\n",
       "      <td>吳彥霆</td>\n",
       "      <td>scmodeling4</td>\n",
       "      <td>e24086632@gs.ncku.edu.tw</td>\n",
       "      <td>1fnt34s2</td>\n",
       "    </tr>\n",
       "    <tr>\n",
       "      <th>4</th>\n",
       "      <td>許峻維</td>\n",
       "      <td>scmodeling5</td>\n",
       "      <td>e24086585@ncku.edu.tw</td>\n",
       "      <td>ipnil027</td>\n",
       "    </tr>\n",
       "    <tr>\n",
       "      <th>...</th>\n",
       "      <td>...</td>\n",
       "      <td>...</td>\n",
       "      <td>...</td>\n",
       "      <td>...</td>\n",
       "    </tr>\n",
       "    <tr>\n",
       "      <th>70</th>\n",
       "      <td>宋志斌</td>\n",
       "      <td>scmodeling71</td>\n",
       "      <td>c44086082@ncku.edu.tw</td>\n",
       "      <td>pja546a7</td>\n",
       "    </tr>\n",
       "    <tr>\n",
       "      <th>71</th>\n",
       "      <td>鍾遠哲</td>\n",
       "      <td>scmodeling72</td>\n",
       "      <td>m46111036@gs.ncku.edu.tw</td>\n",
       "      <td>fpqa7qlv</td>\n",
       "    </tr>\n",
       "    <tr>\n",
       "      <th>72</th>\n",
       "      <td>呂昊諭</td>\n",
       "      <td>scmodeling73</td>\n",
       "      <td>nn6114077@gs.ncku.edu.tw</td>\n",
       "      <td>r2p3w5la</td>\n",
       "    </tr>\n",
       "    <tr>\n",
       "      <th>73</th>\n",
       "      <td>黃健彰</td>\n",
       "      <td>scmodeling74</td>\n",
       "      <td>jason0956886511@gmail.com</td>\n",
       "      <td>c0sdhk42</td>\n",
       "    </tr>\n",
       "    <tr>\n",
       "      <th>74</th>\n",
       "      <td>許智皓</td>\n",
       "      <td>scmodeling75</td>\n",
       "      <td>n26110150@gs.ncku.edu.tw</td>\n",
       "      <td>75nzr1kj</td>\n",
       "    </tr>\n",
       "  </tbody>\n",
       "</table>\n",
       "<p>75 rows × 4 columns</p>\n",
       "</div>"
      ],
      "text/plain": [
       "   NAME       ACCOUNT                      EMAIL  PASSWORD\n",
       "0   賴俊竹   scmodeling1   l76114445@gs.ncku.edu.tw  rafe4cay\n",
       "1   劉育嘉   scmodeling2   e24099017@gs.ncku.edu.tw  vfi8ov9n\n",
       "2   蔡昀典   scmodeling3      c44076134@ncku.edu.tw  0nrdlibv\n",
       "3   吳彥霆   scmodeling4   e24086632@gs.ncku.edu.tw  1fnt34s2\n",
       "4   許峻維   scmodeling5      e24086585@ncku.edu.tw  ipnil027\n",
       "..  ...           ...                        ...       ...\n",
       "70  宋志斌  scmodeling71      c44086082@ncku.edu.tw  pja546a7\n",
       "71  鍾遠哲  scmodeling72   m46111036@gs.ncku.edu.tw  fpqa7qlv\n",
       "72  呂昊諭  scmodeling73   nn6114077@gs.ncku.edu.tw  r2p3w5la\n",
       "73  黃健彰  scmodeling74  jason0956886511@gmail.com  c0sdhk42\n",
       "74  許智皓  scmodeling75   n26110150@gs.ncku.edu.tw  75nzr1kj\n",
       "\n",
       "[75 rows x 4 columns]"
      ]
     },
     "execution_count": 40,
     "metadata": {},
     "output_type": "execute_result"
    }
   ],
   "source": [
    "df"
   ]
  },
  {
   "cell_type": "code",
   "execution_count": 41,
   "id": "b456d581",
   "metadata": {},
   "outputs": [],
   "source": [
    "df.to_csv('2023_scmodeling_account_v2.csv',encoding=\"utf_8_sig\")"
   ]
  },
  {
   "cell_type": "code",
   "execution_count": null,
   "id": "9bef48cb",
   "metadata": {},
   "outputs": [],
   "source": []
  }
 ],
 "metadata": {
  "kernelspec": {
   "display_name": "Python 3 (ipykernel)",
   "language": "python",
   "name": "python3"
  },
  "language_info": {
   "codemirror_mode": {
    "name": "ipython",
    "version": 3
   },
   "file_extension": ".py",
   "mimetype": "text/x-python",
   "name": "python",
   "nbconvert_exporter": "python",
   "pygments_lexer": "ipython3",
   "version": "3.10.9"
  }
 },
 "nbformat": 4,
 "nbformat_minor": 5
}
