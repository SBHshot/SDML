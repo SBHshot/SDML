{
 "cells": [
  {
   "cell_type": "code",
   "execution_count": 1,
   "id": "a4b722c2",
   "metadata": {},
   "outputs": [],
   "source": [
    "import os\n",
    "import csv\n",
    "import smtplib\n",
    "from subprocess import call"
   ]
  },
  {
   "cell_type": "code",
   "execution_count": 2,
   "id": "8bf3fd1f",
   "metadata": {},
   "outputs": [],
   "source": [
    "user = 'darsenlu@gmail.com'\n",
    "app_password = 'aqvi zjzw kqae cdwg'"
   ]
  },
  {
   "cell_type": "code",
   "execution_count": 3,
   "id": "09228a5f",
   "metadata": {},
   "outputs": [
    {
     "data": {
      "text/plain": [
       "(235, b'2.7.0 Accepted')"
      ]
     },
     "execution_count": 3,
     "metadata": {},
     "output_type": "execute_result"
    }
   ],
   "source": [
    "smtpObj = smtplib.SMTP('smtp.gmail.com', 587)\n",
    "smtpObj.ehlo()\n",
    "smtpObj.starttls()\n",
    "smtpObj.login(user, app_password)"
   ]
  },
  {
   "cell_type": "code",
   "execution_count": null,
   "id": "e4b09bb0",
   "metadata": {},
   "outputs": [],
   "source": []
  }
 ],
 "metadata": {
  "kernelspec": {
   "display_name": "Python 3 (ipykernel)",
   "language": "python",
   "name": "python3"
  },
  "language_info": {
   "codemirror_mode": {
    "name": "ipython",
    "version": 3
   },
   "file_extension": ".py",
   "mimetype": "text/x-python",
   "name": "python",
   "nbconvert_exporter": "python",
   "pygments_lexer": "ipython3",
   "version": "3.10.9"
  }
 },
 "nbformat": 4,
 "nbformat_minor": 5
}
